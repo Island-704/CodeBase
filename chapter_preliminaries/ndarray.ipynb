{
  "cells": [
    {
      "cell_type": "code",
      "execution_count": 1,
      "id": "01fa8e58",
      "metadata": {
        "execution": {
          "iopub.execute_input": "2023-08-18T19:32:55.152236Z",
          "iopub.status.busy": "2023-08-18T19:32:55.151500Z",
          "iopub.status.idle": "2023-08-18T19:32:57.051589Z",
          "shell.execute_reply": "2023-08-18T19:32:57.050409Z"
        },
        "origin_pos": 6,
        "tab": [
          "pytorch"
        ],
        "id": "01fa8e58"
      },
      "outputs": [],
      "source": [
        "import torch"
      ]
    },
    {
      "cell_type": "code",
      "execution_count": 2,
      "id": "b6aa30a9",
      "metadata": {
        "execution": {
          "iopub.execute_input": "2023-08-18T19:32:57.056039Z",
          "iopub.status.busy": "2023-08-18T19:32:57.055276Z",
          "iopub.status.idle": "2023-08-18T19:32:57.089028Z",
          "shell.execute_reply": "2023-08-18T19:32:57.088195Z"
        },
        "origin_pos": 14,
        "tab": [
          "pytorch"
        ],
        "colab": {
          "base_uri": "https://localhost:8080/"
        },
        "id": "b6aa30a9",
        "outputId": "dd860f3b-50c5-447e-d9bd-04138ef85585"
      },
      "outputs": [
        {
          "output_type": "execute_result",
          "data": {
            "text/plain": [
              "tensor([ 0.,  1.,  2.,  3.,  4.,  5.,  6.,  7.,  8.,  9., 10., 11.])"
            ]
          },
          "metadata": {},
          "execution_count": 2
        }
      ],
      "source": [
        "x = torch.arange(12, dtype=torch.float32)\n",
        "x"
      ]
    },
    {
      "cell_type": "code",
      "execution_count": 3,
      "id": "640cadaf",
      "metadata": {
        "execution": {
          "iopub.execute_input": "2023-08-18T19:32:57.093138Z",
          "iopub.status.busy": "2023-08-18T19:32:57.092473Z",
          "iopub.status.idle": "2023-08-18T19:32:57.098450Z",
          "shell.execute_reply": "2023-08-18T19:32:57.097452Z"
        },
        "origin_pos": 21,
        "tab": [
          "pytorch"
        ],
        "colab": {
          "base_uri": "https://localhost:8080/"
        },
        "id": "640cadaf",
        "outputId": "82554bf3-1e11-469c-d39c-db232e20be62"
      },
      "outputs": [
        {
          "output_type": "execute_result",
          "data": {
            "text/plain": [
              "12"
            ]
          },
          "metadata": {},
          "execution_count": 3
        }
      ],
      "source": [
        "x.numel()"
      ]
    },
    {
      "cell_type": "code",
      "execution_count": 4,
      "id": "6e0a9616",
      "metadata": {
        "execution": {
          "iopub.execute_input": "2023-08-18T19:32:57.102194Z",
          "iopub.status.busy": "2023-08-18T19:32:57.101575Z",
          "iopub.status.idle": "2023-08-18T19:32:57.107424Z",
          "shell.execute_reply": "2023-08-18T19:32:57.106501Z"
        },
        "origin_pos": 24,
        "tab": [
          "pytorch"
        ],
        "colab": {
          "base_uri": "https://localhost:8080/"
        },
        "id": "6e0a9616",
        "outputId": "87efbd26-e1ba-42c5-a30e-34287e2967ca"
      },
      "outputs": [
        {
          "output_type": "execute_result",
          "data": {
            "text/plain": [
              "torch.Size([12])"
            ]
          },
          "metadata": {},
          "execution_count": 4
        }
      ],
      "source": [
        "x.shape"
      ]
    },
    {
      "cell_type": "code",
      "execution_count": 5,
      "id": "6092207c",
      "metadata": {
        "execution": {
          "iopub.execute_input": "2023-08-18T19:32:57.111467Z",
          "iopub.status.busy": "2023-08-18T19:32:57.110749Z",
          "iopub.status.idle": "2023-08-18T19:32:57.117759Z",
          "shell.execute_reply": "2023-08-18T19:32:57.116917Z"
        },
        "origin_pos": 26,
        "tab": [
          "pytorch"
        ],
        "colab": {
          "base_uri": "https://localhost:8080/"
        },
        "id": "6092207c",
        "outputId": "6880f252-49fc-4176-9064-4dbe71863662"
      },
      "outputs": [
        {
          "output_type": "execute_result",
          "data": {
            "text/plain": [
              "tensor([[ 0.,  1.,  2.,  3.],\n",
              "        [ 4.,  5.,  6.,  7.],\n",
              "        [ 8.,  9., 10., 11.]])"
            ]
          },
          "metadata": {},
          "execution_count": 5
        }
      ],
      "source": [
        "X = x.reshape(3, 4)\n",
        "X"
      ]
    },
    {
      "cell_type": "code",
      "execution_count": 6,
      "id": "383cafca",
      "metadata": {
        "execution": {
          "iopub.execute_input": "2023-08-18T19:32:57.122018Z",
          "iopub.status.busy": "2023-08-18T19:32:57.121194Z",
          "iopub.status.idle": "2023-08-18T19:32:57.128294Z",
          "shell.execute_reply": "2023-08-18T19:32:57.127285Z"
        },
        "origin_pos": 30,
        "tab": [
          "pytorch"
        ],
        "colab": {
          "base_uri": "https://localhost:8080/"
        },
        "id": "383cafca",
        "outputId": "2f67b51c-7aa4-4d9a-e6b8-16ab2e1aa1cd"
      },
      "outputs": [
        {
          "output_type": "execute_result",
          "data": {
            "text/plain": [
              "tensor([[[0., 0., 0., 0.],\n",
              "         [0., 0., 0., 0.],\n",
              "         [0., 0., 0., 0.]],\n",
              "\n",
              "        [[0., 0., 0., 0.],\n",
              "         [0., 0., 0., 0.],\n",
              "         [0., 0., 0., 0.]]])"
            ]
          },
          "metadata": {},
          "execution_count": 6
        }
      ],
      "source": [
        "torch.zeros((2, 3, 4))"
      ]
    },
    {
      "cell_type": "code",
      "execution_count": 7,
      "id": "0ea249d4",
      "metadata": {
        "execution": {
          "iopub.execute_input": "2023-08-18T19:32:57.132534Z",
          "iopub.status.busy": "2023-08-18T19:32:57.131716Z",
          "iopub.status.idle": "2023-08-18T19:32:57.139029Z",
          "shell.execute_reply": "2023-08-18T19:32:57.138135Z"
        },
        "origin_pos": 35,
        "tab": [
          "pytorch"
        ],
        "colab": {
          "base_uri": "https://localhost:8080/"
        },
        "id": "0ea249d4",
        "outputId": "8a71a2e0-aa8d-4b5a-b895-b4ae0133464b"
      },
      "outputs": [
        {
          "output_type": "execute_result",
          "data": {
            "text/plain": [
              "tensor([[[1., 1., 1., 1.],\n",
              "         [1., 1., 1., 1.],\n",
              "         [1., 1., 1., 1.]],\n",
              "\n",
              "        [[1., 1., 1., 1.],\n",
              "         [1., 1., 1., 1.],\n",
              "         [1., 1., 1., 1.]]])"
            ]
          },
          "metadata": {},
          "execution_count": 7
        }
      ],
      "source": [
        "torch.ones((2, 3, 4))"
      ]
    },
    {
      "cell_type": "code",
      "execution_count": 8,
      "id": "2254595d",
      "metadata": {
        "execution": {
          "iopub.execute_input": "2023-08-18T19:32:57.143051Z",
          "iopub.status.busy": "2023-08-18T19:32:57.142388Z",
          "iopub.status.idle": "2023-08-18T19:32:57.149695Z",
          "shell.execute_reply": "2023-08-18T19:32:57.148813Z"
        },
        "origin_pos": 40,
        "tab": [
          "pytorch"
        ],
        "colab": {
          "base_uri": "https://localhost:8080/"
        },
        "id": "2254595d",
        "outputId": "c99d5c00-38fb-4acc-cf83-83b126dda713"
      },
      "outputs": [
        {
          "output_type": "execute_result",
          "data": {
            "text/plain": [
              "tensor([[ 0.8157, -0.2561,  0.4422,  1.6347],\n",
              "        [-0.2039,  0.9363, -0.5849,  1.9662],\n",
              "        [-0.6006,  1.0933, -0.1127, -2.7073]])"
            ]
          },
          "metadata": {},
          "execution_count": 8
        }
      ],
      "source": [
        "torch.randn(3, 4)"
      ]
    },
    {
      "cell_type": "code",
      "execution_count": 9,
      "id": "b26863d8",
      "metadata": {
        "execution": {
          "iopub.execute_input": "2023-08-18T19:32:57.153567Z",
          "iopub.status.busy": "2023-08-18T19:32:57.153222Z",
          "iopub.status.idle": "2023-08-18T19:32:57.160436Z",
          "shell.execute_reply": "2023-08-18T19:32:57.159548Z"
        },
        "origin_pos": 45,
        "tab": [
          "pytorch"
        ],
        "colab": {
          "base_uri": "https://localhost:8080/"
        },
        "id": "b26863d8",
        "outputId": "3d423efe-583e-4dbf-93f9-8c18ff4f72f1"
      },
      "outputs": [
        {
          "output_type": "execute_result",
          "data": {
            "text/plain": [
              "tensor([[2, 1, 4, 3],\n",
              "        [1, 2, 3, 4],\n",
              "        [4, 3, 2, 1]])"
            ]
          },
          "metadata": {},
          "execution_count": 9
        }
      ],
      "source": [
        "torch.tensor([[2, 1, 4, 3], [1, 2, 3, 4], [4, 3, 2, 1]])"
      ]
    },
    {
      "cell_type": "code",
      "execution_count": 10,
      "id": "d9049a53",
      "metadata": {
        "execution": {
          "iopub.execute_input": "2023-08-18T19:32:57.164537Z",
          "iopub.status.busy": "2023-08-18T19:32:57.163812Z",
          "iopub.status.idle": "2023-08-18T19:32:57.171699Z",
          "shell.execute_reply": "2023-08-18T19:32:57.170451Z"
        },
        "origin_pos": 49,
        "tab": [
          "pytorch"
        ],
        "colab": {
          "base_uri": "https://localhost:8080/"
        },
        "id": "d9049a53",
        "outputId": "b777f8c8-4689-4bd9-e4e6-ab80f8406b8d"
      },
      "outputs": [
        {
          "output_type": "execute_result",
          "data": {
            "text/plain": [
              "(tensor([ 8.,  9., 10., 11.]),\n",
              " tensor([[ 4.,  5.,  6.,  7.],\n",
              "         [ 8.,  9., 10., 11.]]))"
            ]
          },
          "metadata": {},
          "execution_count": 10
        }
      ],
      "source": [
        "X[-1], X[1:3]"
      ]
    },
    {
      "cell_type": "code",
      "execution_count": 11,
      "id": "9246619c",
      "metadata": {
        "execution": {
          "iopub.execute_input": "2023-08-18T19:32:57.176047Z",
          "iopub.status.busy": "2023-08-18T19:32:57.175685Z",
          "iopub.status.idle": "2023-08-18T19:32:57.182893Z",
          "shell.execute_reply": "2023-08-18T19:32:57.181890Z"
        },
        "origin_pos": 52,
        "tab": [
          "pytorch"
        ],
        "colab": {
          "base_uri": "https://localhost:8080/"
        },
        "id": "9246619c",
        "outputId": "3071ac3a-f533-4ce1-ff0a-d3f9dc7f2899"
      },
      "outputs": [
        {
          "output_type": "execute_result",
          "data": {
            "text/plain": [
              "tensor([[ 0.,  1.,  2.,  3.],\n",
              "        [ 4.,  5., 17.,  7.],\n",
              "        [ 8.,  9., 10., 11.]])"
            ]
          },
          "metadata": {},
          "execution_count": 11
        }
      ],
      "source": [
        "X[1, 2] = 17\n",
        "X"
      ]
    },
    {
      "cell_type": "code",
      "execution_count": 12,
      "id": "0532f024",
      "metadata": {
        "execution": {
          "iopub.execute_input": "2023-08-18T19:32:57.186970Z",
          "iopub.status.busy": "2023-08-18T19:32:57.186270Z",
          "iopub.status.idle": "2023-08-18T19:32:57.193303Z",
          "shell.execute_reply": "2023-08-18T19:32:57.192338Z"
        },
        "origin_pos": 56,
        "tab": [
          "pytorch"
        ],
        "colab": {
          "base_uri": "https://localhost:8080/"
        },
        "id": "0532f024",
        "outputId": "0a5ff589-3723-4a4d-d91f-c9d1af4501ab"
      },
      "outputs": [
        {
          "output_type": "execute_result",
          "data": {
            "text/plain": [
              "tensor([[12., 12., 12., 12.],\n",
              "        [12., 12., 12., 12.],\n",
              "        [ 8.,  9., 10., 11.]])"
            ]
          },
          "metadata": {},
          "execution_count": 12
        }
      ],
      "source": [
        "X[:2, :] = 12\n",
        "X"
      ]
    },
    {
      "cell_type": "code",
      "execution_count": 13,
      "id": "6dd6724c",
      "metadata": {
        "execution": {
          "iopub.execute_input": "2023-08-18T19:32:57.197301Z",
          "iopub.status.busy": "2023-08-18T19:32:57.196599Z",
          "iopub.status.idle": "2023-08-18T19:32:57.206136Z",
          "shell.execute_reply": "2023-08-18T19:32:57.205188Z"
        },
        "origin_pos": 61,
        "tab": [
          "pytorch"
        ],
        "colab": {
          "base_uri": "https://localhost:8080/"
        },
        "id": "6dd6724c",
        "outputId": "3aec1e3d-132f-4e4c-8495-0e5fefc1ed89"
      },
      "outputs": [
        {
          "output_type": "execute_result",
          "data": {
            "text/plain": [
              "tensor([162754.7969, 162754.7969, 162754.7969, 162754.7969, 162754.7969,\n",
              "        162754.7969, 162754.7969, 162754.7969,   2980.9580,   8103.0840,\n",
              "         22026.4648,  59874.1406])"
            ]
          },
          "metadata": {},
          "execution_count": 13
        }
      ],
      "source": [
        "torch.exp(x)"
      ]
    },
    {
      "cell_type": "code",
      "execution_count": 14,
      "id": "89bc996d",
      "metadata": {
        "execution": {
          "iopub.execute_input": "2023-08-18T19:32:57.210417Z",
          "iopub.status.busy": "2023-08-18T19:32:57.209741Z",
          "iopub.status.idle": "2023-08-18T19:32:57.219298Z",
          "shell.execute_reply": "2023-08-18T19:32:57.218318Z"
        },
        "origin_pos": 66,
        "tab": [
          "pytorch"
        ],
        "colab": {
          "base_uri": "https://localhost:8080/"
        },
        "id": "89bc996d",
        "outputId": "c1bac684-380f-4c88-c5cb-97425361f20f"
      },
      "outputs": [
        {
          "output_type": "execute_result",
          "data": {
            "text/plain": [
              "(tensor([ 3.,  4.,  6., 10.]),\n",
              " tensor([-1.,  0.,  2.,  6.]),\n",
              " tensor([ 2.,  4.,  8., 16.]),\n",
              " tensor([0.5000, 1.0000, 2.0000, 4.0000]),\n",
              " tensor([ 1.,  4., 16., 64.]))"
            ]
          },
          "metadata": {},
          "execution_count": 14
        }
      ],
      "source": [
        "x = torch.tensor([1.0, 2, 4, 8])\n",
        "y = torch.tensor([2, 2, 2, 2])\n",
        "x + y, x - y, x * y, x / y, x ** y"
      ]
    },
    {
      "cell_type": "code",
      "execution_count": 15,
      "id": "43aa9012",
      "metadata": {
        "execution": {
          "iopub.execute_input": "2023-08-18T19:32:57.223534Z",
          "iopub.status.busy": "2023-08-18T19:32:57.222711Z",
          "iopub.status.idle": "2023-08-18T19:32:57.233166Z",
          "shell.execute_reply": "2023-08-18T19:32:57.232145Z"
        },
        "origin_pos": 71,
        "tab": [
          "pytorch"
        ],
        "colab": {
          "base_uri": "https://localhost:8080/"
        },
        "id": "43aa9012",
        "outputId": "4a2f89f9-4199-4d52-aa13-3c88d1f12fa8"
      },
      "outputs": [
        {
          "output_type": "execute_result",
          "data": {
            "text/plain": [
              "(tensor([[ 0.,  1.,  2.,  3.],\n",
              "         [ 4.,  5.,  6.,  7.],\n",
              "         [ 8.,  9., 10., 11.],\n",
              "         [ 2.,  1.,  4.,  3.],\n",
              "         [ 1.,  2.,  3.,  4.],\n",
              "         [ 4.,  3.,  2.,  1.]]),\n",
              " tensor([[ 0.,  1.,  2.,  3.,  2.,  1.,  4.,  3.],\n",
              "         [ 4.,  5.,  6.,  7.,  1.,  2.,  3.,  4.],\n",
              "         [ 8.,  9., 10., 11.,  4.,  3.,  2.,  1.]]))"
            ]
          },
          "metadata": {},
          "execution_count": 15
        }
      ],
      "source": [
        "X = torch.arange(12, dtype=torch.float32).reshape((3,4))\n",
        "Y = torch.tensor([[2.0, 1, 4, 3], [1, 2, 3, 4], [4, 3, 2, 1]])\n",
        "torch.cat((X, Y), dim=0), torch.cat((X, Y), dim=1)"
      ]
    },
    {
      "cell_type": "code",
      "execution_count": 16,
      "id": "91d39e58",
      "metadata": {
        "execution": {
          "iopub.execute_input": "2023-08-18T19:32:57.237276Z",
          "iopub.status.busy": "2023-08-18T19:32:57.236485Z",
          "iopub.status.idle": "2023-08-18T19:32:57.243133Z",
          "shell.execute_reply": "2023-08-18T19:32:57.242117Z"
        },
        "origin_pos": 75,
        "tab": [
          "pytorch"
        ],
        "colab": {
          "base_uri": "https://localhost:8080/"
        },
        "id": "91d39e58",
        "outputId": "43b8548e-a06b-4b60-a1f1-41987016335f"
      },
      "outputs": [
        {
          "output_type": "execute_result",
          "data": {
            "text/plain": [
              "tensor([[False,  True, False,  True],\n",
              "        [False, False, False, False],\n",
              "        [False, False, False, False]])"
            ]
          },
          "metadata": {},
          "execution_count": 16
        }
      ],
      "source": [
        "X == Y"
      ]
    },
    {
      "cell_type": "code",
      "execution_count": 17,
      "id": "080b0125",
      "metadata": {
        "execution": {
          "iopub.execute_input": "2023-08-18T19:32:57.247142Z",
          "iopub.status.busy": "2023-08-18T19:32:57.246480Z",
          "iopub.status.idle": "2023-08-18T19:32:57.253117Z",
          "shell.execute_reply": "2023-08-18T19:32:57.252212Z"
        },
        "origin_pos": 77,
        "tab": [
          "pytorch"
        ],
        "colab": {
          "base_uri": "https://localhost:8080/"
        },
        "id": "080b0125",
        "outputId": "08228751-97f5-4baf-8009-6fd4c5023277"
      },
      "outputs": [
        {
          "output_type": "execute_result",
          "data": {
            "text/plain": [
              "tensor(66.)"
            ]
          },
          "metadata": {},
          "execution_count": 17
        }
      ],
      "source": [
        "X.sum()"
      ]
    },
    {
      "cell_type": "code",
      "execution_count": 18,
      "id": "be37d2de",
      "metadata": {
        "execution": {
          "iopub.execute_input": "2023-08-18T19:32:57.256932Z",
          "iopub.status.busy": "2023-08-18T19:32:57.256264Z",
          "iopub.status.idle": "2023-08-18T19:32:57.263823Z",
          "shell.execute_reply": "2023-08-18T19:32:57.262881Z"
        },
        "origin_pos": 81,
        "tab": [
          "pytorch"
        ],
        "colab": {
          "base_uri": "https://localhost:8080/"
        },
        "id": "be37d2de",
        "outputId": "77b90bb4-a294-4f9d-b098-ba5d19c8426d"
      },
      "outputs": [
        {
          "output_type": "execute_result",
          "data": {
            "text/plain": [
              "(tensor([[0],\n",
              "         [1],\n",
              "         [2]]),\n",
              " tensor([[0, 1]]))"
            ]
          },
          "metadata": {},
          "execution_count": 18
        }
      ],
      "source": [
        "a = torch.arange(3).reshape((3, 1))\n",
        "b = torch.arange(2).reshape((1, 2))\n",
        "a, b"
      ]
    },
    {
      "cell_type": "code",
      "execution_count": 19,
      "id": "9f62e827",
      "metadata": {
        "execution": {
          "iopub.execute_input": "2023-08-18T19:32:57.267856Z",
          "iopub.status.busy": "2023-08-18T19:32:57.267172Z",
          "iopub.status.idle": "2023-08-18T19:32:57.273497Z",
          "shell.execute_reply": "2023-08-18T19:32:57.272587Z"
        },
        "origin_pos": 85,
        "tab": [
          "pytorch"
        ],
        "colab": {
          "base_uri": "https://localhost:8080/"
        },
        "id": "9f62e827",
        "outputId": "5ca8f116-5ea4-4fa8-ce09-7789c4bddb2b"
      },
      "outputs": [
        {
          "output_type": "execute_result",
          "data": {
            "text/plain": [
              "tensor([[0, 1],\n",
              "        [1, 2],\n",
              "        [2, 3]])"
            ]
          },
          "metadata": {},
          "execution_count": 19
        }
      ],
      "source": [
        "a + b"
      ]
    },
    {
      "cell_type": "code",
      "execution_count": 20,
      "id": "754a7433",
      "metadata": {
        "execution": {
          "iopub.execute_input": "2023-08-18T19:32:57.277697Z",
          "iopub.status.busy": "2023-08-18T19:32:57.277047Z",
          "iopub.status.idle": "2023-08-18T19:32:57.283549Z",
          "shell.execute_reply": "2023-08-18T19:32:57.282613Z"
        },
        "origin_pos": 87,
        "tab": [
          "pytorch"
        ],
        "colab": {
          "base_uri": "https://localhost:8080/"
        },
        "id": "754a7433",
        "outputId": "b197950a-20a8-4aa4-f84d-85b92d766b3a"
      },
      "outputs": [
        {
          "output_type": "execute_result",
          "data": {
            "text/plain": [
              "False"
            ]
          },
          "metadata": {},
          "execution_count": 20
        }
      ],
      "source": [
        "before = id(Y)\n",
        "Y = Y + X\n",
        "id(Y) == before"
      ]
    },
    {
      "cell_type": "code",
      "execution_count": 21,
      "id": "c4d62609",
      "metadata": {
        "execution": {
          "iopub.execute_input": "2023-08-18T19:32:57.287695Z",
          "iopub.status.busy": "2023-08-18T19:32:57.286964Z",
          "iopub.status.idle": "2023-08-18T19:32:57.293078Z",
          "shell.execute_reply": "2023-08-18T19:32:57.292048Z"
        },
        "origin_pos": 92,
        "tab": [
          "pytorch"
        ],
        "colab": {
          "base_uri": "https://localhost:8080/"
        },
        "id": "c4d62609",
        "outputId": "12efed95-0c76-4dd8-b884-cca5e1b70578"
      },
      "outputs": [
        {
          "output_type": "stream",
          "name": "stdout",
          "text": [
            "id(Z): 132798248552016\n",
            "id(Z): 132798248552016\n"
          ]
        }
      ],
      "source": [
        "Z = torch.zeros_like(Y)\n",
        "print('id(Z):', id(Z))\n",
        "Z[:] = X + Y\n",
        "print('id(Z):', id(Z))"
      ]
    },
    {
      "cell_type": "code",
      "execution_count": 22,
      "id": "b8c13447",
      "metadata": {
        "execution": {
          "iopub.execute_input": "2023-08-18T19:32:57.296911Z",
          "iopub.status.busy": "2023-08-18T19:32:57.296361Z",
          "iopub.status.idle": "2023-08-18T19:32:57.302754Z",
          "shell.execute_reply": "2023-08-18T19:32:57.301805Z"
        },
        "origin_pos": 97,
        "tab": [
          "pytorch"
        ],
        "colab": {
          "base_uri": "https://localhost:8080/"
        },
        "id": "b8c13447",
        "outputId": "35b323c8-8acc-46e4-bd08-c45ed1d5978f"
      },
      "outputs": [
        {
          "output_type": "execute_result",
          "data": {
            "text/plain": [
              "True"
            ]
          },
          "metadata": {},
          "execution_count": 22
        }
      ],
      "source": [
        "before = id(X)\n",
        "X += Y\n",
        "id(X) == before"
      ]
    },
    {
      "cell_type": "code",
      "execution_count": 23,
      "id": "576963aa",
      "metadata": {
        "execution": {
          "iopub.execute_input": "2023-08-18T19:32:57.306812Z",
          "iopub.status.busy": "2023-08-18T19:32:57.306088Z",
          "iopub.status.idle": "2023-08-18T19:32:57.312356Z",
          "shell.execute_reply": "2023-08-18T19:32:57.311478Z"
        },
        "origin_pos": 103,
        "tab": [
          "pytorch"
        ],
        "colab": {
          "base_uri": "https://localhost:8080/"
        },
        "id": "576963aa",
        "outputId": "ff89e47e-7a6f-4d43-8b85-fdcace956f72"
      },
      "outputs": [
        {
          "output_type": "execute_result",
          "data": {
            "text/plain": [
              "(numpy.ndarray, torch.Tensor)"
            ]
          },
          "metadata": {},
          "execution_count": 23
        }
      ],
      "source": [
        "A = X.numpy()\n",
        "B = torch.from_numpy(A)\n",
        "type(A), type(B)"
      ]
    },
    {
      "cell_type": "code",
      "execution_count": 24,
      "id": "388c5252",
      "metadata": {
        "execution": {
          "iopub.execute_input": "2023-08-18T19:32:57.316471Z",
          "iopub.status.busy": "2023-08-18T19:32:57.315825Z",
          "iopub.status.idle": "2023-08-18T19:32:57.322867Z",
          "shell.execute_reply": "2023-08-18T19:32:57.322007Z"
        },
        "origin_pos": 108,
        "tab": [
          "pytorch"
        ],
        "colab": {
          "base_uri": "https://localhost:8080/"
        },
        "id": "388c5252",
        "outputId": "f4245e4f-73fe-418a-ddcb-006d93fe6df2"
      },
      "outputs": [
        {
          "output_type": "execute_result",
          "data": {
            "text/plain": [
              "(tensor([3.5000]), 3.5, 3.5, 3)"
            ]
          },
          "metadata": {},
          "execution_count": 24
        }
      ],
      "source": [
        "a = torch.tensor([3.5])\n",
        "a, a.item(), float(a), int(a)"
      ]
    }
  ],
  "metadata": {
    "kernelspec": {
      "display_name": "Python 3",
      "name": "python3"
    },
    "language_info": {
      "name": "python"
    },
    "required_libs": [],
    "colab": {
      "provenance": []
    }
  },
  "nbformat": 4,
  "nbformat_minor": 5
}